{
 "cells": [
  {
   "cell_type": "code",
   "execution_count": null,
   "id": "13306969-f7bd-409c-a1ae-4d8e523b235d",
   "metadata": {
    "tags": []
   },
   "outputs": [
    {
     "name": "stdout",
     "output_type": "stream",
     "text": [
      "  |   |   |   |  \n",
      "-------------------\n",
      "  |   |   |   |  \n",
      "-------------------\n",
      "  |   |   |   |  \n",
      "-------------------\n",
      "  |   |   |   |  \n",
      "-------------------\n",
      "  |   |   |   |  \n",
      "-------------------\n"
     ]
    }
   ],
   "source": [
    "import numpy as np\n",
    "\n",
    "def print_board(board):\n",
    "    for row in board:\n",
    "        print(\" | \".join(row))\n",
    "        print(\"-\" * 19)\n",
    "\n",
    "def check_win(board, player):\n",
    "    for i in range(5):\n",
    "        if all(board[i][j] == player for j in range(5)):\n",
    "            return True\n",
    "        if all(board[j][i] == player for j in range(5)):\n",
    "            return True\n",
    "\n",
    "    if all(board[i][i] == player for i in range(5)) or all(board[i][4 - i] == player for i in range(5)):\n",
    "        return True\n",
    "\n",
    "    return False\n",
    "\n",
    "def is_board_full(board):\n",
    "    return all(board[i][j] != ' ' for i in range(5) for j in range(5))\n",
    "\n",
    "def play_game():\n",
    "    board = [[' ' for _ in range(5)] for _ in range(5)]\n",
    "    current_player = '0'\n",
    "\n",
    "    print_board(board)\n",
    "\n",
    "    for _ in range(25):\n",
    "        row = int(input(f\"Enter the row (0-4) to place '{current_player}' in: \"))\n",
    "        col = int(input(f\"Enter the column (0-4) to place '{current_player}' in: \"))\n",
    "\n",
    "        if board[row][col] == ' ':\n",
    "            board[row][col] = current_player\n",
    "        else:\n",
    "            print(\"Invalid move. Try again.\")\n",
    "            continue\n",
    "\n",
    "        print_board(board)\n",
    "\n",
    "        current_player = '1' if current_player == '0' else '0'\n",
    "\n",
    "if __name__ == \"__main__\":\n",
    "    play_game()"
   ]
  },
  {
   "cell_type": "code",
   "execution_count": null,
   "id": "41cc1a44-6569-4432-8dfb-15517ca23c2e",
   "metadata": {},
   "outputs": [],
   "source": []
  }
 ],
 "metadata": {
  "kernelspec": {
   "display_name": "Python 3 (ipykernel)",
   "language": "python",
   "name": "python3"
  },
  "language_info": {
   "codemirror_mode": {
    "name": "ipython",
    "version": 3
   },
   "file_extension": ".py",
   "mimetype": "text/x-python",
   "name": "python",
   "nbconvert_exporter": "python",
   "pygments_lexer": "ipython3",
   "version": "3.11.5"
  }
 },
 "nbformat": 4,
 "nbformat_minor": 5
}
