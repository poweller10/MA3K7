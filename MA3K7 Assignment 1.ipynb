{
 "cells": [
  {
   "cell_type": "code",
   "execution_count": 1,
   "id": "172ab446-a03c-4e62-9307-bf78836e41b3",
   "metadata": {
    "tags": []
   },
   "outputs": [],
   "source": [
    "import numpy as np\n",
    "\n",
    "def bracelets(a, b):\n",
    "    matrix = np.zeros(100)\n",
    "    matrix[0] = a\n",
    "    matrix[1] = b\n",
    "    i = 2\n",
    "    while True:\n",
    "        matrix[i] = (matrix[i-1] + matrix[i-2]) % 10\n",
    "        if matrix[i-1] == a and matrix[i] == b:\n",
    "            break\n",
    "        i += 1\n",
    "        if i >= len(matrix):\n",
    "            break\n",
    "    matrix = matrix[:i]\n",
    "    return matrix"
   ]
  },
  {
   "cell_type": "code",
   "execution_count": 2,
   "id": "f62af684-411b-4044-a7b8-e96e0843ca31",
   "metadata": {
    "tags": []
   },
   "outputs": [
    {
     "name": "stdout",
     "output_type": "stream",
     "text": [
      "[1. 5. 6. 1. 7. 8. 5. 3. 8. 1. 9. 0. 9. 9. 8. 7. 5. 2. 7. 9. 6. 5. 1. 6.\n",
      " 7. 3. 0. 3. 3. 6. 9. 5. 4. 9. 3. 2. 5. 7. 2. 9. 1. 0. 1. 1. 2. 3. 5. 8.\n",
      " 3. 1. 4. 5. 9. 4. 3. 7. 0. 7. 7. 4. 1.]\n"
     ]
    }
   ],
   "source": [
    "print(bracelets(1,5))"
   ]
  },
  {
   "cell_type": "code",
   "execution_count": 3,
   "id": "77cd3b6a-5cd2-492d-b1e7-3c6d5c49daa2",
   "metadata": {
    "tags": []
   },
   "outputs": [
    {
     "name": "stdout",
     "output_type": "stream",
     "text": [
      "[2. 2. 4. 6. 0. 6. 6. 2. 8. 0. 8. 8. 6. 4. 0. 4. 4. 8. 2. 0. 2.]\n"
     ]
    }
   ],
   "source": [
    "print(bracelets(2,2))"
   ]
  },
  {
   "cell_type": "code",
   "execution_count": 4,
   "id": "8e71e355-a351-4fe1-965d-871735f69900",
   "metadata": {
    "tags": []
   },
   "outputs": [
    {
     "name": "stdout",
     "output_type": "stream",
     "text": [
      "[1. 3. 4. 7. 1. 8. 9. 7. 6. 3. 9. 2. 1.]\n"
     ]
    }
   ],
   "source": [
    "print(bracelets(1,3))"
   ]
  },
  {
   "cell_type": "code",
   "execution_count": 5,
   "id": "5e7cdbeb-ed02-4552-b4b4-db0d2c05b084",
   "metadata": {
    "tags": []
   },
   "outputs": [
    {
     "name": "stdout",
     "output_type": "stream",
     "text": [
      "[5. 5. 0. 5.]\n"
     ]
    }
   ],
   "source": [
    "print(bracelets(5,5))"
   ]
  },
  {
   "cell_type": "code",
   "execution_count": 6,
   "id": "1c576efd-e163-4386-880a-1ff8521a32e7",
   "metadata": {
    "tags": []
   },
   "outputs": [
    {
     "name": "stdout",
     "output_type": "stream",
     "text": [
      "[4. 2. 6. 8. 4.]\n"
     ]
    }
   ],
   "source": [
    "print(bracelets(4,2))"
   ]
  },
  {
   "cell_type": "code",
   "execution_count": 7,
   "id": "9f822b03-40c6-4f93-9eba-9c0a0d1a0487",
   "metadata": {
    "tags": []
   },
   "outputs": [
    {
     "name": "stdout",
     "output_type": "stream",
     "text": [
      "[0. 0.]\n"
     ]
    }
   ],
   "source": [
    "print(bracelets(0,0))"
   ]
  },
  {
   "cell_type": "code",
   "execution_count": null,
   "id": "90ea7baa-39fd-4c3b-af54-2a19368925ec",
   "metadata": {},
   "outputs": [],
   "source": []
  }
 ],
 "metadata": {
  "kernelspec": {
   "display_name": "Python 3 (ipykernel)",
   "language": "python",
   "name": "python3"
  },
  "language_info": {
   "codemirror_mode": {
    "name": "ipython",
    "version": 3
   },
   "file_extension": ".py",
   "mimetype": "text/x-python",
   "name": "python",
   "nbconvert_exporter": "python",
   "pygments_lexer": "ipython3",
   "version": "3.11.5"
  }
 },
 "nbformat": 4,
 "nbformat_minor": 5
}
